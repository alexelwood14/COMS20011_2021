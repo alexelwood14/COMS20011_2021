{
 "cells": [
  {
   "cell_type": "markdown",
   "metadata": {},
   "source": [
    "# Lab 4: Maximum Likelihood Estimate (MLE)\n",
    "\n",
    "### Introduction\n",
    "\n",
    "In this lab session we shall have a look at how to use the *Maximum Likelihood Estimate (MLE)* method to estimate the parameters of some model, given some observations $D$.\n",
    "\n",
    "<font color=\"red\">NOTE: </font>In the notation $\\mathcal{N} (\\mu, \\sigma^2)$ $\\mu$ refers to the mean and $\\sigma^2$  the variance, not the standard deviation. The standard deviation is $\\sigma = \\sqrt {\\sigma^2}$, i.e. for $\\mathcal{N}(0.5, 0.25)$, the standard deviation is $\\sigma = 0.5$.\n",
    "\n",
    "As usual, let's import the libraries before we start by running the cell below."
   ]
  },
  {
   "cell_type": "code",
   "execution_count": 2,
   "metadata": {},
   "outputs": [],
   "source": [
    "from __future__ import print_function # to avoid issues between Python 2 and 3 printing\n",
    "\n",
    "import numpy as np\n",
    "from scipy import stats\n",
    "# Necessary to import Axes3D to use `plt.subplots(subplot_kw={'projection': '3d'})`\n",
    "# as this internally sets up matplotlib for 3D projection, without this import you'll \n",
    "# get an error.\n",
    "from mpl_toolkits.mplot3d import Axes3D\n",
    "import matplotlib.pyplot as plt\n",
    "\n",
    "# show matplotlib figures inline\n",
    "%matplotlib inline"
   ]
  },
  {
   "cell_type": "code",
   "execution_count": 3,
   "metadata": {},
   "outputs": [],
   "source": [
    "# By default we set figures to be 7\"x4\" on a 110 dots per inch (DPI) screen \n",
    "# (adjust DPI if you have a high res screen!)\n",
    "plt.rc('figure', figsize=(7, 4), dpi=110)\n",
    "plt.rc('font', size=10)"
   ]
  },
  {
   "cell_type": "markdown",
   "metadata": {},
   "source": [
    "## 1. MLE recipe\n",
    "\n",
    "Let's suppose you're given $n$ one dimensional data points $D = \\{d_0, d_1, ...,  d_{n-1} \\}$ which you believe follow a normal distribution. In this case, your model has two parameters: $\\mu$ and $\\sigma^2$.\n",
    "\n",
    "Given your data $D$, you wish to find the most likely parameters of the normal distribution.\n",
    "Let's assume the standard deviation ($\\sigma$) is 0.5, now estimate the parameter $\\mu$ of the model (the mean of the normal distribution representing your data). \n",
    "\n",
    "Use the Maximum Likelihood Estimate (MLE) formula to show that $\\mu_{ML} = \\frac{1}{n}\\sum_i d_i$.\n",
    "\n",
    "**Hint**: assuming the data points are independent, we have \n",
    "\n",
    "$$p(D|\\mu) = \\prod_i p(d_i | \\mu) = \\prod_i \\mathcal{N}(d_i|\\mu, \\sigma^2)$$\n",
    "\n",
    "Additionally, since this is a convex function, we can analytically find the stationary point that maximises the function where $\\frac{dp(D|\\mu)}{d\\mu} = 0$.\n",
    "\n",
    "**Note:** This should be done on paper (and ideally typed up in $\\LaTeX$ in the cell below), not using Python."
   ]
  },
  {
   "cell_type": "markdown",
   "metadata": {},
   "source": [
    "### Answer\n",
    "\n",
    "Write here your answer using latex notation. Alternatively, write your solution on paper and show it to a TA."
   ]
  },
  {
   "cell_type": "markdown",
   "metadata": {},
   "source": [
    "### CORRECT ANSWER ###\n",
    "Our goal is to find the most likely $\\mu$ given the data $D$, therefore we're looking to solve\n",
    "$\\arg\\max_\\mu p(D|\\mu)$. Whenever you see an $\\arg\\max$ you should be thinking about find stationary points of the function using derivatives.\n",
    "\n",
    "Since this is a convex function, we can analytically find the stationary point that maximises the function where $\\frac{dp(D|\\mu)}{d\\mu} = 0$. \n",
    "\n",
    "We employ a trick in doing this by observing that $\\frac{dp(D|\\mu)}{d\\mu} = 0 \\Leftrightarrow \\frac{d\\ln p(D|\\mu)}{d\\mu} = 0$\n",
    "\n",
    "Assuming $\\sigma = 0.5$\n",
    "\n",
    "\\begin{equation}\n",
    "\\sigma = 0.5 \\Leftrightarrow \\sigma^2 = 0.25\n",
    "\\end{equation}\n",
    "\n",
    "First we simplify the pdf:\n",
    "\n",
    "\\begin{align}\n",
    "p(d|\\mu) &= \\frac{1}{\\sqrt{2\\pi \\sigma^2}} e^{-\\frac{(d - \\mu)^2}{2\\sigma^2}} \\\\\n",
    "         &= \\frac{1}{\\sqrt{0.5\\pi}} e^{-\\frac{(d - \\mu)^2}{0.5}} = \\frac{1}{\\sqrt{0.5\\pi}} e^{-2(d - \\mu)^2}\n",
    "\\end{align}\n",
    "\n",
    "Since we assume independence between the samples, we have\n",
    "\n",
    "\\begin{equation}\n",
    "p(D|\\mu) = \\prod_i p(d_i|\\mu)\n",
    "\\end{equation}\n",
    "\n",
    "Using our trick we'll instead solve for $\\ln p(D|\\mu)$ (as this makes solving the derivative a lot easier)\n",
    "\n",
    "\\begin{equation}\n",
    "\\ln p(D|\\mu) = \\ln \\prod_i p(d_i|\\mu) = \\sum_i \\ln p(d_i|\\mu)\n",
    "\\end{equation}\n",
    "\n",
    "Subsituting in the simplified pdf\n",
    "\n",
    "\\begin{align}\n",
    "\\sum_i \\ln p(d_i|\\mu) &= \\sum_i \\ln \\frac{1}{\\sqrt{0.5\\pi}} e^{-2(d_i - \\mu)^2} \\\\\n",
    "                        &= \\sum_i \\ln 1 - \\ln (0.5\\pi)^{-1/2} + \\ln e^{-2(d_i - \\mu)^2} \\\\\n",
    "                        &= -\\frac{n}{2}\\ln 0.5\\pi + \\sum_i \\ln e^{-2(d_i - \\mu)^2} \\\\\n",
    "                        &= -\\frac{n}{2}\\ln 0.5\\pi - 2\\sum_i (d_i - \\mu)^2\n",
    "\\end{align}\n",
    "\n",
    "\n",
    "Now we solve for the derivative:\n",
    "\n",
    "\\begin{align}\n",
    "\\frac{d\\ln p(D|\\mu)}{d\\mu} &= \\frac{d}{d\\mu} \\left(-\\frac{n}{2}\\ln 0.5\\pi - 2\\sum_i(d_i - \\mu)^2 \\right) \\\\\n",
    "                           &= 4 \\sum_i \\left(d_i - \\mu\\right) \\\\\n",
    "                           &= 4 \\left( \\sum_i d_i - n\\mu \\right)\\\\ \n",
    "\\end{align}\n",
    "\n",
    "Now we solve for $\\mu$ when our derivative is 0\n",
    "\n",
    "\\begin{align}\n",
    "\\frac{d\\ln p(D|\\mu)}{d\\mu} = 0 \\Leftrightarrow 0 &= 4 \\left(  \\sum_i d_i - n \\mu \\right)\\\\\n",
    "                                               \\mu &= \\frac{1}{n} \\sum_i d_i\n",
    "\\end{align}\n",
    "\n",
    "In this solution we made use of the following laws:\n",
    "\n",
    "- $\\ln(ab) = \\ln(a) + \\ln(b)$\n",
    "- $\\ln(e) = 1$\n",
    "- $\\ln(1) = 0$\n",
    "- $\\ln(a^b) = b\\ln(a)$\n",
    "- $\\frac{d}{dx}ln(x) = \\frac{1}{|x|}$\n",
    "- $\\sum_i c x_i = c \\sum_i x_i$\n",
    "- $\\sum_i^N c = Nc$"
   ]
  },
  {
   "cell_type": "markdown",
   "metadata": {},
   "source": [
    "## 2. MLE with Python\n",
    "\n",
    "We know want you to write a simple program that calculates $\\mu_{\\text{ML}}$ using Python.\n",
    "\n",
    "Let's now load the data from the file `data1.dat` and let's plot the histogram of the data."
   ]
  },
  {
   "cell_type": "code",
   "execution_count": 4,
   "metadata": {},
   "outputs": [],
   "source": [
    "# write your code here"
   ]
  },
  {
   "cell_type": "code",
   "execution_count": 5,
   "metadata": {},
   "outputs": [
    {
     "data": {
      "text/plain": "(array([2., 1., 5., 9., 8., 8., 8., 4., 2., 3.]),\n array([-0.34415 , -0.144065,  0.05602 ,  0.256105,  0.45619 ,  0.656275,\n         0.85636 ,  1.056445,  1.25653 ,  1.456615,  1.6567  ]),\n <BarContainer object of 10 artists>)"
     },
     "execution_count": 5,
     "metadata": {},
     "output_type": "execute_result"
    },
    {
     "data": {
      "text/plain": "<Figure size 770x440 with 1 Axes>",
      "image/png": "[encoded data removed]"
     },
     "metadata": {
      "needs_background": "light"
     },
     "output_type": "display_data"
    }
   ],
   "source": [
    "##CORRECT ANSWER##\n",
    "D = np.loadtxt('data1.dat', delimiter=',')\n",
    "\n",
    "plt.hist(D)\n",
    "##CORRECT ANSWER##"
   ]
  },
  {
   "cell_type": "markdown",
   "metadata": {},
   "source": [
    "You should now see a histogram approximating a normal distribution. In fact, `data1.data` contains the observations $D$ we talked about above when deriving $\\mu_\\text{ML}$, which we said we believe follows a normal distribution. \n",
    "\n",
    "Write a function `compute_likelihood(D, mu)` that takes a value of $\\mu$ and computes $p(D | \\mu)$ for the data in `data1.dat`, assuming $\\sigma=0.5$.\n",
    "\n",
    "You may use NumPy's function `np.prod` for the calculation."
   ]
  },
  {
   "cell_type": "code",
   "execution_count": 6,
   "metadata": {},
   "outputs": [],
   "source": [
    "# write your code here"
   ]
  },
  {
   "cell_type": "code",
   "execution_count": 7,
   "metadata": {},
   "outputs": [
    {
     "data": {
      "text/plain": "2.1613853049710207e-15"
     },
     "execution_count": 7,
     "metadata": {},
     "output_type": "execute_result"
    }
   ],
   "source": [
    "##CORRECT ANSWER##\n",
    "def compute_likelihood(data, mu, sigma=0.5):\n",
    "    pdf = stats.norm.pdf(data, loc=mu, scale=sigma)\n",
    "    likelihood = pdf.prod()\n",
    "    \n",
    "    return likelihood\n",
    "\n",
    "compute_likelihood(D, 0.5)\n",
    "##CORRECT ANSWER##"
   ]
  },
  {
   "cell_type": "markdown",
   "metadata": {},
   "source": [
    "Write a function `loop_likelihood(D)` that calls `compute_likelihood` for each value of $\\mu \\in \\{0.00, 0.01, 0.02, \\ldots , 1.00\\}$, storing *both* the value of $\\mu$ and the corresponding obtained likelihood in a 2D array so that the first column contains the value $\\mu$ and the second the likelihood $p(D|\\mu)$ ."
   ]
  },
  {
   "cell_type": "code",
   "execution_count": 8,
   "metadata": {},
   "outputs": [],
   "source": [
    "# write your code here"
   ]
  },
  {
   "cell_type": "code",
   "execution_count": 9,
   "metadata": {
    "scrolled": true
   },
   "outputs": [
    {
     "data": {
      "text/plain": "array([[0.00000000e+00, 8.13741147e-34],\n       [1.00000000e-02, 3.10295510e-33],\n       [2.00000000e-02, 1.15978855e-32],\n       [3.00000000e-02, 4.24909314e-32],\n       [4.00000000e-02, 1.52590606e-31],\n       [5.00000000e-02, 5.37122633e-31],\n       [6.00000000e-02, 1.85324663e-30],\n       [7.00000000e-02, 6.26768405e-30],\n       [8.00000000e-02, 2.07775857e-29],\n       [9.00000000e-02, 6.75145193e-29],\n       [1.00000000e-01, 2.15037097e-28],\n       [1.10000000e-01, 6.71341827e-28],\n       [1.20000000e-01, 2.05441480e-27],\n       [1.30000000e-01, 6.16235443e-27],\n       [1.40000000e-01, 1.81183783e-26],\n       [1.50000000e-01, 5.22162984e-26],\n       [1.60000000e-01, 1.47505071e-25],\n       [1.70000000e-01, 4.08434042e-25],\n       [1.80000000e-01, 1.10853912e-24],\n       [1.90000000e-01, 2.94913208e-24],\n       [2.00000000e-01, 7.69044614e-24],\n       [2.10000000e-01, 1.96572589e-23],\n       [2.20000000e-01, 4.92502556e-23],\n       [2.30000000e-01, 1.20950629e-22],\n       [2.40000000e-01, 2.91153412e-22],\n       [2.50000000e-01, 6.86988943e-22],\n       [2.60000000e-01, 1.58888228e-21],\n       [2.70000000e-01, 3.60203398e-21],\n       [2.80000000e-01, 8.00420124e-21],\n       [2.90000000e-01, 1.74342112e-20],\n       [3.00000000e-01, 3.72220869e-20],\n       [3.10000000e-01, 7.78956569e-20],\n       [3.20000000e-01, 1.59786425e-19],\n       [3.30000000e-01, 3.21277732e-19],\n       [3.40000000e-01, 6.33192092e-19],\n       [3.50000000e-01, 1.22321965e-18],\n       [3.60000000e-01, 2.31626117e-18],\n       [3.70000000e-01, 4.29917094e-18],\n       [3.80000000e-01, 7.82160737e-18],\n       [3.90000000e-01, 1.39483045e-17],\n       [4.00000000e-01, 2.43815291e-17],\n       [4.10000000e-01, 4.17748181e-17],\n       [4.20000000e-01, 7.01588250e-17],\n       [4.30000000e-01, 1.15495259e-16],\n       [4.40000000e-01, 1.86363182e-16],\n       [4.50000000e-01, 2.94761112e-16],\n       [4.60000000e-01, 4.56977027e-16],\n       [4.70000000e-01, 6.94436691e-16],\n       [4.80000000e-01, 1.03439178e-15],\n       [4.90000000e-01, 1.51025949e-15],\n       [5.00000000e-01, 2.16138530e-15],\n       [5.10000000e-01, 3.03198415e-15],\n       [5.20000000e-01, 4.16903720e-15],\n       [5.30000000e-01, 5.61899600e-15],\n       [5.40000000e-01, 7.42327906e-15],\n       [5.50000000e-01, 9.61273480e-15],\n       [5.60000000e-01, 1.22014725e-14],\n       [5.70000000e-01, 1.51806945e-14],\n       [5.80000000e-01, 1.85133557e-14],\n       [5.90000000e-01, 2.21305782e-14],\n       [6.00000000e-01, 2.59307147e-14],\n       [6.10000000e-01, 2.97817575e-14],\n       [6.20000000e-01, 3.35274304e-14],\n       [6.30000000e-01, 3.69968140e-14],\n       [6.40000000e-01, 4.00168126e-14],\n       [6.50000000e-01, 4.24262622e-14],\n       [6.60000000e-01, 4.40901077e-14],\n       [6.70000000e-01, 4.49119237e-14],\n       [6.80000000e-01, 4.48431659e-14],\n       [6.90000000e-01, 4.38879187e-14],\n       [7.00000000e-01, 4.21024932e-14],\n       [7.10000000e-01, 3.95899319e-14],\n       [7.20000000e-01, 3.64901631e-14],\n       [7.30000000e-01, 3.29671167e-14],\n       [7.40000000e-01, 2.91944459e-14],\n       [7.50000000e-01, 2.53415758e-14],\n       [7.60000000e-01, 2.15616062e-14],\n       [7.70000000e-01, 1.79821953e-14],\n       [7.80000000e-01, 1.47000369e-14],\n       [7.90000000e-01, 1.17789952e-14],\n       [8.00000000e-01, 9.25150056e-15],\n       [8.10000000e-01, 7.12246335e-15],\n       [8.20000000e-01, 5.37480084e-15],\n       [8.30000000e-01, 3.97565455e-15],\n       [8.40000000e-01, 2.88249800e-15],\n       [8.50000000e-01, 2.04853553e-15],\n       [8.60000000e-01, 1.42702669e-15],\n       [8.70000000e-01, 9.74394449e-16],\n       [8.80000000e-01, 6.52156184e-16],\n       [8.90000000e-01, 4.27841141e-16],\n       [9.00000000e-01, 2.75123432e-16],\n       [9.10000000e-01, 1.73415027e-16],\n       [9.20000000e-01, 1.07142058e-16],\n       [9.30000000e-01, 6.48854547e-17],\n       [9.40000000e-01, 3.85166787e-17],\n       [9.50000000e-01, 2.24111643e-17],\n       [9.60000000e-01, 1.27818618e-17],\n       [9.70000000e-01, 7.14558726e-18],\n       [9.80000000e-01, 3.91557770e-18],\n       [9.90000000e-01, 2.10313852e-18],\n       [1.00000000e+00, 1.10727123e-18]])"
     },
     "execution_count": 9,
     "metadata": {},
     "output_type": "execute_result"
    }
   ],
   "source": [
    "##CORRECT ANSWER##\n",
    "def loop_likelihood(data, size=101):\n",
    "    L = np.zeros(shape=(size, 2))\n",
    "    \n",
    "    for i, mu in enumerate(np.linspace(0, 1, size)):\n",
    "        likelihood = compute_likelihood(data, mu)\n",
    "        L[i, :] = (mu, likelihood)\n",
    "        \n",
    "    return L\n",
    "\n",
    "\n",
    "loop_likelihood(D)\n",
    "##CORRECT ANSWER##"
   ]
  },
  {
   "cell_type": "markdown",
   "metadata": {},
   "source": [
    "### Questions:\n",
    "\n",
    "- What is the value of the maximum likelihood $\\text{ML} = \\max p(D|\\mu)$ ? \n",
    "\n",
    "- What is $\\mu_{\\text{ML}} = arg\\,max_\\mu \\, p(D|\\mu)$? \n",
    "\n",
    "Make sure you understand the difference between the two."
   ]
  },
  {
   "cell_type": "code",
   "execution_count": 10,
   "metadata": {},
   "outputs": [],
   "source": [
    "# write your code here"
   ]
  },
  {
   "cell_type": "code",
   "execution_count": 11,
   "metadata": {},
   "outputs": [
    {
     "name": "stdout",
     "output_type": "stream",
     "text": [
      "mu_ml = 0.67\n",
      "ml = 4.491192371239748e-14\n"
     ]
    }
   ],
   "source": [
    "##CORRECT ANSWER##\n",
    "L = loop_likelihood(D)\n",
    "max_ml_index = L[:, 1].argmax() # second column contains likelihoods\n",
    "arg_max_ml, max_ml = L[max_ml_index, :]\n",
    "\n",
    "print('mu_ml =', arg_max_ml)\n",
    "print('ml =', max_ml)\n",
    "##CORRECT ANSWER##"
   ]
  },
  {
   "cell_type": "markdown",
   "metadata": {},
   "source": [
    "### Visual interpretation\n",
    "\n",
    "Look at the obtained $\\mu_{\\text{ML}}$ and at the previously plotted histogram. Can you see any relationship between the obtained value and the histogram?\n",
    "\n",
    "Let's now plot $\\mu$ against $p(D|\\mu)$, using the $\\mu$ values you used to compute the likelihoods. Plot also a vertical line located at $\\mu_{\\text{ML}}$. Where does this line lie? Is it a meaningful position?"
   ]
  },
  {
   "cell_type": "code",
   "execution_count": 12,
   "metadata": {},
   "outputs": [],
   "source": [
    "# write your code here"
   ]
  },
  {
   "cell_type": "code",
   "execution_count": 13,
   "metadata": {},
   "outputs": [
    {
     "data": {
      "text/plain": "[<matplotlib.lines.Line2D at 0x7f8099cc8be0>]"
     },
     "execution_count": 13,
     "metadata": {},
     "output_type": "execute_result"
    },
    {
     "data": {
      "text/plain": "<Figure size 770x440 with 1 Axes>",
      "image/png": "[encoded data removed]"
     },
     "metadata": {
      "needs_background": "light"
     },
     "output_type": "display_data"
    }
   ],
   "source": [
    "##CORRECT ANSWER##\n",
    "# plot mu against p(D|mu) \n",
    "fig, ax = plt.subplots()\n",
    "ax.plot(L[:, 0], L[:, 1]) \n",
    "# plot a vertical line to show arg max(P(D|mu))\n",
    "xs = (L[max_ml_index, 0], L[max_ml_index, 0])\n",
    "ys = (0, L[max_ml_index, 1])\n",
    "ax.plot(xs, ys, color='r' )\n",
    "##CORRECT ANSWER##"
   ]
  },
  {
   "cell_type": "markdown",
   "metadata": {},
   "source": [
    "### Comparison with MLE recipe\n",
    "\n",
    "Now implement the MLE recipe for $\\mu_\\text{ML}$ you solved at the beginning of this sheet to find the value of $\\mu_{ML}$ (note that this should be just one line of code!).\n",
    "\n",
    "Compare this value with that obtained previously. Do the values match? "
   ]
  },
  {
   "cell_type": "code",
   "execution_count": 14,
   "metadata": {},
   "outputs": [],
   "source": [
    "# write your code here"
   ]
  },
  {
   "cell_type": "code",
   "execution_count": 15,
   "metadata": {},
   "outputs": [
    {
     "name": "stdout",
     "output_type": "stream",
     "text": [
      "mu_ml = 0.67\n",
      "mu_ml with MLE recipe (data mean) = 0.6742339399999999\n"
     ]
    }
   ],
   "source": [
    "##CORRECT ANSWER##\n",
    "print('mu_ml =', arg_max_ml)\n",
    "print('mu_ml with MLE recipe (data mean) =', D.sum() / len(D))\n",
    "##CORRECT ANSWER##"
   ]
  },
  {
   "cell_type": "markdown",
   "metadata": {},
   "source": [
    "### CORRECT ANSWER\n",
    "\n",
    "By using the MLE recipe we found that the parameter $\\mu$ maximising the likelihood was given by the mean of the data points $D$. \n",
    "\n",
    "In fact, the mean of $D$ corresponds to the previously obtained $\\mu_{\\text{ML}} = argmax_\\mu P(D|\\mu)$, which was $0.67$."
   ]
  },
  {
   "cell_type": "markdown",
   "metadata": {},
   "source": [
    "# 3. Posterior probability\n",
    "\n",
    "Let's suppose now we have some prior knowledge regarding our parameter $\\mu$. More precisely, our belief is that the probability density function (pdf) $p(\\mu)$ modelling our parameter is also given by a normal distribution.\n",
    "\n",
    "Assuming that $\\mu \\sim \\mathcal{N}(0.5,0.01)$, write two functions, `compute_posterior(D, mu)` and `loop_posterior(D)`, to find $\\mu_{\\text{MAP}} = \\arg \\max_{\\mu} p(D|\\mu)p(\\mu)$."
   ]
  },
  {
   "cell_type": "code",
   "execution_count": 16,
   "metadata": {},
   "outputs": [],
   "source": [
    "# write your code here"
   ]
  },
  {
   "cell_type": "code",
   "execution_count": 17,
   "metadata": {},
   "outputs": [
    {
     "name": "stdout",
     "output_type": "stream",
     "text": [
      "mu_map = 0.62\n",
      "map = 6.510559438694884e-14\n"
     ]
    }
   ],
   "source": [
    "##CORRECT ANSWER##\n",
    "def compute_posterior(data, mu):    \n",
    "    likelihood = compute_likelihood(data, mu)\n",
    "    prior = stats.norm.pdf(mu, loc=0.5, scale=0.1)\n",
    "    posterior = likelihood * prior\n",
    "    \n",
    "    return posterior\n",
    "\n",
    "def loop_posterior(data, s=101):\n",
    "    posterior = np.zeros(shape=(s, 2))\n",
    "    \n",
    "    for i, mu in enumerate(np.linspace(0, 1, s)):\n",
    "        p = compute_posterior(data, mu)\n",
    "        posterior[i, :] = [mu, p]\n",
    "        \n",
    "    return posterior\n",
    "\n",
    "POS = loop_posterior(D)\n",
    "max_pos_index = POS[:, 1].argmax() # second column contains posterior\n",
    "arg_max_posterior, max_posterior = POS[max_pos_index, :]\n",
    "\n",
    "print('mu_map = {}\\nmap = {}'.format(arg_max_posterior, max_posterior))\n",
    "##CORRECT ANSWER##"
   ]
  },
  {
   "cell_type": "markdown",
   "metadata": {},
   "source": [
    "### Visual interpretation\n",
    "\n",
    "\n",
    "Now plot $\\mu$ against both $p(D|\\mu)$ and $p(D|\\mu)p(\\mu)$ similar to the graph below.\n",
    "![MLE](mle.png)"
   ]
  },
  {
   "cell_type": "code",
   "execution_count": 18,
   "metadata": {},
   "outputs": [],
   "source": [
    "# write your code here"
   ]
  },
  {
   "cell_type": "code",
   "execution_count": 19,
   "metadata": {},
   "outputs": [
    {
     "data": {
      "text/plain": "Text(0, 0.5, '$p(\\\\cdot)$')"
     },
     "execution_count": 19,
     "metadata": {},
     "output_type": "execute_result"
    },
    {
     "data": {
      "text/plain": "<Figure size 770x440 with 1 Axes>",
      "image/png": "[encoded data removed]"
     },
     "metadata": {
      "needs_background": "light"
     },
     "output_type": "display_data"
    }
   ],
   "source": [
    "##CORRECT ANSWER##\n",
    "plt.plot(L[:, 0], L[:, 1], color='r', linestyle='--', label='$p(d|\\mu)$')\n",
    "plt.plot( (L[max_ml_index, 0], L[max_ml_index, 0]), (0, L[max_ml_index, 1]), color='r')\n",
    "\n",
    "plt.plot(POS[:, 0], POS[:, 1], color='b', linestyle='-', label='$p(d|\\mu)*p(\\mu)$')\n",
    "plt.plot( (POS[max_pos_index, 0], POS[max_pos_index, 0]), (0, POS[max_pos_index, 1]), color='b')\n",
    "\n",
    "plt.legend(bbox_to_anchor=(1.05, 1), loc=2, borderaxespad=0.)\n",
    "plt.xlabel('$\\mu$')\n",
    "plt.ylabel('$p(\\cdot)$')\n",
    "##CORRECT ANSWER##"
   ]
  },
  {
   "cell_type": "markdown",
   "metadata": {},
   "source": [
    "Repeat now the above calculations for `data2.dat` and `data3.dat`. \n",
    "\n",
    "For both files, plot $\\mu$ against both $p(D|\\mu)$ and $p(D|\\mu)p(\\mu)$."
   ]
  },
  {
   "cell_type": "code",
   "execution_count": 20,
   "metadata": {},
   "outputs": [],
   "source": [
    "# write your code here"
   ]
  },
  {
   "cell_type": "code",
   "execution_count": 21,
   "metadata": {},
   "outputs": [
    {
     "name": "stdout",
     "output_type": "stream",
     "text": [
      "[7.90000000e-01 3.14908142e-15]\n",
      "The correct value for file `data2.dat` is:  0.79\n",
      "[6.90000000e-01 7.69268972e-16]\n",
      "The correct value for file `data2.dat` is  0.6900000000000001\n"
     ]
    },
    {
     "ename": "OSError",
     "evalue": "data3.dat not found.",
     "output_type": "error",
     "traceback": [
      "\u001B[0;31m---------------------------------------------------------------------------\u001B[0m",
      "\u001B[0;31mOSError\u001B[0m                                   Traceback (most recent call last)",
      "Input \u001B[0;32mIn [21]\u001B[0m, in \u001B[0;36m<module>\u001B[0;34m\u001B[0m\n\u001B[1;32m     27\u001B[0m     \u001B[38;5;28;01mreturn\u001B[39;00m ax\n\u001B[1;32m     29\u001B[0m mle_vs_map(\u001B[38;5;124m'\u001B[39m\u001B[38;5;124mdata2.dat\u001B[39m\u001B[38;5;124m'\u001B[39m)\n\u001B[0;32m---> 30\u001B[0m \u001B[43mmle_vs_map\u001B[49m\u001B[43m(\u001B[49m\u001B[38;5;124;43m'\u001B[39;49m\u001B[38;5;124;43mdata3.dat\u001B[39;49m\u001B[38;5;124;43m'\u001B[39;49m\u001B[43m)\u001B[49m\n",
      "Input \u001B[0;32mIn [21]\u001B[0m, in \u001B[0;36mmle_vs_map\u001B[0;34m(data_file)\u001B[0m\n\u001B[1;32m      2\u001B[0m \u001B[38;5;28;01mdef\u001B[39;00m \u001B[38;5;21mmle_vs_map\u001B[39m(data_file):\n\u001B[0;32m----> 3\u001B[0m     E \u001B[38;5;241m=\u001B[39m \u001B[43mnp\u001B[49m\u001B[38;5;241;43m.\u001B[39;49m\u001B[43mloadtxt\u001B[49m\u001B[43m(\u001B[49m\u001B[43mdata_file\u001B[49m\u001B[43m,\u001B[49m\u001B[43m \u001B[49m\u001B[43mdelimiter\u001B[49m\u001B[38;5;241;43m=\u001B[39;49m\u001B[38;5;124;43m'\u001B[39;49m\u001B[38;5;124;43m,\u001B[39;49m\u001B[38;5;124;43m'\u001B[39;49m\u001B[43m)\u001B[49m\n\u001B[1;32m      4\u001B[0m     lml_e \u001B[38;5;241m=\u001B[39m loop_likelihood(E)\n\u001B[1;32m      5\u001B[0m     max_lml_e \u001B[38;5;241m=\u001B[39m lml_e[:, \u001B[38;5;241m1\u001B[39m]\u001B[38;5;241m.\u001B[39margmax()\n",
      "File \u001B[0;32m~/.local/lib/python3.8/site-packages/numpy/lib/npyio.py:1067\u001B[0m, in \u001B[0;36mloadtxt\u001B[0;34m(fname, dtype, comments, delimiter, converters, skiprows, usecols, unpack, ndmin, encoding, max_rows, like)\u001B[0m\n\u001B[1;32m   1065\u001B[0m     fname \u001B[38;5;241m=\u001B[39m os_fspath(fname)\n\u001B[1;32m   1066\u001B[0m \u001B[38;5;28;01mif\u001B[39;00m _is_string_like(fname):\n\u001B[0;32m-> 1067\u001B[0m     fh \u001B[38;5;241m=\u001B[39m \u001B[43mnp\u001B[49m\u001B[38;5;241;43m.\u001B[39;49m\u001B[43mlib\u001B[49m\u001B[38;5;241;43m.\u001B[39;49m\u001B[43m_datasource\u001B[49m\u001B[38;5;241;43m.\u001B[39;49m\u001B[43mopen\u001B[49m\u001B[43m(\u001B[49m\u001B[43mfname\u001B[49m\u001B[43m,\u001B[49m\u001B[43m \u001B[49m\u001B[38;5;124;43m'\u001B[39;49m\u001B[38;5;124;43mrt\u001B[39;49m\u001B[38;5;124;43m'\u001B[39;49m\u001B[43m,\u001B[49m\u001B[43m \u001B[49m\u001B[43mencoding\u001B[49m\u001B[38;5;241;43m=\u001B[39;49m\u001B[43mencoding\u001B[49m\u001B[43m)\u001B[49m\n\u001B[1;32m   1068\u001B[0m     fencoding \u001B[38;5;241m=\u001B[39m \u001B[38;5;28mgetattr\u001B[39m(fh, \u001B[38;5;124m'\u001B[39m\u001B[38;5;124mencoding\u001B[39m\u001B[38;5;124m'\u001B[39m, \u001B[38;5;124m'\u001B[39m\u001B[38;5;124mlatin1\u001B[39m\u001B[38;5;124m'\u001B[39m)\n\u001B[1;32m   1069\u001B[0m     fh \u001B[38;5;241m=\u001B[39m \u001B[38;5;28miter\u001B[39m(fh)\n",
      "File \u001B[0;32m~/.local/lib/python3.8/site-packages/numpy/lib/_datasource.py:193\u001B[0m, in \u001B[0;36mopen\u001B[0;34m(path, mode, destpath, encoding, newline)\u001B[0m\n\u001B[1;32m    156\u001B[0m \u001B[38;5;124m\"\"\"\u001B[39m\n\u001B[1;32m    157\u001B[0m \u001B[38;5;124mOpen `path` with `mode` and return the file object.\u001B[39m\n\u001B[1;32m    158\u001B[0m \n\u001B[0;32m   (...)\u001B[0m\n\u001B[1;32m    189\u001B[0m \n\u001B[1;32m    190\u001B[0m \u001B[38;5;124m\"\"\"\u001B[39m\n\u001B[1;32m    192\u001B[0m ds \u001B[38;5;241m=\u001B[39m DataSource(destpath)\n\u001B[0;32m--> 193\u001B[0m \u001B[38;5;28;01mreturn\u001B[39;00m \u001B[43mds\u001B[49m\u001B[38;5;241;43m.\u001B[39;49m\u001B[43mopen\u001B[49m\u001B[43m(\u001B[49m\u001B[43mpath\u001B[49m\u001B[43m,\u001B[49m\u001B[43m \u001B[49m\u001B[43mmode\u001B[49m\u001B[43m,\u001B[49m\u001B[43m \u001B[49m\u001B[43mencoding\u001B[49m\u001B[38;5;241;43m=\u001B[39;49m\u001B[43mencoding\u001B[49m\u001B[43m,\u001B[49m\u001B[43m \u001B[49m\u001B[43mnewline\u001B[49m\u001B[38;5;241;43m=\u001B[39;49m\u001B[43mnewline\u001B[49m\u001B[43m)\u001B[49m\n",
      "File \u001B[0;32m~/.local/lib/python3.8/site-packages/numpy/lib/_datasource.py:533\u001B[0m, in \u001B[0;36mDataSource.open\u001B[0;34m(self, path, mode, encoding, newline)\u001B[0m\n\u001B[1;32m    530\u001B[0m     \u001B[38;5;28;01mreturn\u001B[39;00m _file_openers[ext](found, mode\u001B[38;5;241m=\u001B[39mmode,\n\u001B[1;32m    531\u001B[0m                               encoding\u001B[38;5;241m=\u001B[39mencoding, newline\u001B[38;5;241m=\u001B[39mnewline)\n\u001B[1;32m    532\u001B[0m \u001B[38;5;28;01melse\u001B[39;00m:\n\u001B[0;32m--> 533\u001B[0m     \u001B[38;5;28;01mraise\u001B[39;00m \u001B[38;5;167;01mIOError\u001B[39;00m(\u001B[38;5;124m\"\u001B[39m\u001B[38;5;132;01m%s\u001B[39;00m\u001B[38;5;124m not found.\u001B[39m\u001B[38;5;124m\"\u001B[39m \u001B[38;5;241m%\u001B[39m path)\n",
      "\u001B[0;31mOSError\u001B[0m: data3.dat not found."
     ]
    },
    {
     "data": {
      "text/plain": "<Figure size 770x440 with 1 Axes>",
      "image/png": "[encoded data removed]"
     },
     "metadata": {
      "needs_background": "light"
     },
     "output_type": "display_data"
    }
   ],
   "source": [
    "##CORRECT ANSWER##\n",
    "def mle_vs_map(data_file):\n",
    "    E = np.loadtxt(data_file, delimiter=',')\n",
    "    lml_e = loop_likelihood(E)\n",
    "    max_lml_e = lml_e[:, 1].argmax()\n",
    "\n",
    "    print(lml_e[max_lml_e, :])\n",
    "    print('The correct value for file `{}` is: '.format(data_file), lml_e[max_lml_e, 0])\n",
    "\n",
    "    pos_e = loop_posterior(E)\n",
    "    max_pos_e = pos_e[:, 1].argmax()\n",
    "\n",
    "    print(pos_e[max_pos_e, :])\n",
    "    print('The correct value for file `{}` is '.format(data_file), pos_e[max_pos_e, 0])\n",
    "\n",
    "    fig_e, ax_e = plt.subplots()\n",
    "    ax_e.plot(lml_e[:, 0], lml_e[:, 1], color='r', linestyle='--', label='$p(d|\\mu)$')\n",
    "    ax_e.plot((lml_e[max_lml_e, 0], lml_e[max_lml_e, 0]), (0, lml_e[max_lml_e, 1]), color='r')\n",
    "\n",
    "    ax_e.plot(pos_e[:, 0], pos_e[:, 1], color='b', linestyle='-', label='$p(d|\\mu)*p(\\mu)$')\n",
    "    ax_e.plot((pos_e[max_pos_e, 0], pos_e[max_pos_e, 0]), (0, pos_e[max_pos_e, 1]), color='b')\n",
    "\n",
    "    ax_e.legend(bbox_to_anchor=(1.05, 1), loc=2, borderaxespad=0.)\n",
    "    ax_e.set_xlabel('$\\mu$')\n",
    "    ax_e.set_ylabel('$p(\\cdot)$')\n",
    "    ax_e.set_title(data_file[:-len('.txt')])\n",
    "    return ax\n",
    "\n",
    "mle_vs_map('data2.dat')\n",
    "mle_vs_map('data3.dat')\n",
    "##CORRECT ANSWER##"
   ]
  },
  {
   "cell_type": "markdown",
   "metadata": {},
   "source": [
    "### Question\n",
    "\n",
    "Observe the results obtained on `data2` and `data3`. What can we tell by looking at the figures you plotted above?"
   ]
  },
  {
   "cell_type": "markdown",
   "metadata": {},
   "source": [
    "### CORRECT ANSWER\n",
    "\n",
    "When the likelihood is further from the suggested prior, we are less confident about our measurements, and thus we observe a larger distance between the two distributions' mean."
   ]
  },
  {
   "cell_type": "markdown",
   "metadata": {},
   "source": [
    "## EXTRA 1\n",
    "\n",
    "Until now, you assumed that our data was generated from a normal distribution with $\\sigma^2 = 0.25$. \n",
    "\n",
    "Remove this assumption and estimate $\\theta_{\\text{MAP}} = [\\mu_{\\text{MAP}}, \\sigma_{\\text{MAP}}]$ experimentally by looping through different values of $\\mu$ and $\\sigma$. \n",
    "\n",
    "Assume the pdf $p(\\sigma)$ is given by $\\mathcal{N}(0.5, 0.16)$.\n",
    "\n",
    "You may need to use `np.nanargmax` instead of `np.argmax`."
   ]
  },
  {
   "cell_type": "code",
   "execution_count": null,
   "metadata": {},
   "outputs": [],
   "source": [
    "# write your code here"
   ]
  },
  {
   "cell_type": "code",
   "execution_count": null,
   "metadata": {},
   "outputs": [],
   "source": [
    "##CORRECT ANSWER##\n",
    "def find_maximum_likelihood_with_prior(data, size=101):\n",
    "    likelihood = np.zeros(shape=(size*size, 3))\n",
    "    i = 0\n",
    "    \n",
    "    for mu in np.linspace(0, 1, size):\n",
    "        for sigma in np.linspace(0, 1, size):\n",
    "            likelihood[i, 0] = mu\n",
    "            likelihood[i, 1] = sigma\n",
    "            likelihood[i, 2] = stats.norm.pdf(D, loc=mu, scale=sigma).prod() *\\\n",
    "                stats.norm.pdf(mu, loc=0.5, scale=0.1) *\\\n",
    "                stats.norm.pdf(sigma, loc=0.5, scale=0.4)\n",
    "            i += 1\n",
    "\n",
    "    max_l = np.nanargmax(likelihood[:, 2])\n",
    "    muML, sigmaML = likelihood[max_l, 0:2]\n",
    "    return muML, sigmaML, likelihood\n",
    "\n",
    "mu_ML, sigma_ML, likelihood_ML = find_maximum_likelihood_with_prior(D)\n",
    "print('The correct values for file `data1.dat` is mu_ML = ', mu_ML, ' and sigma_ML = ', sigma_ML)\n",
    "##CORRECT ANSWER##"
   ]
  },
  {
   "cell_type": "markdown",
   "metadata": {},
   "source": [
    "## EXTRA 2\n",
    "\n",
    "Plot ($\\mu$, $\\sigma$) against $p(D|\\theta)p(\\theta)$ similar to the mesh graph below (use the function `Axes3D.plot_surface`).\n",
    "![MLE mesh](mle2.png)"
   ]
  },
  {
   "cell_type": "code",
   "execution_count": null,
   "metadata": {},
   "outputs": [],
   "source": [
    "# write your code here"
   ]
  },
  {
   "cell_type": "code",
   "execution_count": null,
   "metadata": {},
   "outputs": [],
   "source": [
    "##CORRECT ANSWER##\n",
    "size = 101\n",
    "ls = np.linspace(0, 1, size)\n",
    "mu_l, sigma_l = np.meshgrid(ls, ls)\n",
    "p_l = np.reshape(likelihood_ML[:, 2], (size, size))\n",
    "\n",
    "fig, ax = plt.subplots(subplot_kw={'projection': '3d'}, figsize=(20, 10))\n",
    "\n",
    "ax.plot_surface(mu_l, sigma_l, p_l,\\\n",
    "                vmin=np.nanmin(p_l), vmax=np.nanmax(p_l),\\\n",
    "                rstride=1, cstride=1, cmap=plt.cm.hot, alpha=0.3, linewidth=0, antialiased=False)\n",
    "\n",
    "ax.set_zlim(0, 2*10**-13)\n",
    "ax.invert_xaxis()\n",
    "##CORRECT ANSWER##"
   ]
  }
 ],
 "metadata": {
  "kernelspec": {
   "display_name": "Python 3",
   "language": "python",
   "name": "python3"
  },
  "language_info": {
   "codemirror_mode": {
    "name": "ipython",
    "version": 3
   },
   "file_extension": ".py",
   "mimetype": "text/x-python",
   "name": "python",
   "nbconvert_exporter": "python",
   "pygments_lexer": "ipython3",
   "version": "3.7.2"
  }
 },
 "nbformat": 4,
 "nbformat_minor": 1
}