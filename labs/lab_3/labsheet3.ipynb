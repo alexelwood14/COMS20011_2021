{
 "cells": [
  {
   "cell_type": "markdown",
   "metadata": {},
   "source": [
    "# Lab 3: Least Squares Method \n",
    "\n",
    "\n",
    "## Introduction\n",
    "In this lab we will introduce you to the least squares method which is used to reconstruct a line (i.e. find its parameters) from a series of points. \n",
    "\n",
    "This lab also serves as an introduction to the CW1: Unknown Signal, which will require you to extend the least squares method to non-linear applications.\n",
    "\n",
    "As always we'll begin by importing the necessary modules for the lab."
   ]
  },
  {
   "cell_type": "code",
   "execution_count": 1,
   "metadata": {},
   "outputs": [],
   "source": [
    "from __future__ import print_function # to avoid issues between Python 2 and 3 printing\n",
    "\n",
    "import numpy as np\n",
    "from skimage import data, io, color, transform, exposure\n",
    "from scipy import stats\n",
    "import matplotlib.pyplot as plt\n",
    "\n",
    "# show matplotlib figures inline\n",
    "%matplotlib inline"
   ]
  },
  {
   "cell_type": "code",
   "execution_count": 0,
   "metadata": {},
   "outputs": [],
   "source": [
    "# By default we set figures to be 6\"x4\" on a 110 dots per inch (DPI) screen \n",
    "# (adjust DPI if you have a high res screen!)\n",
    "plt.rc('figure', figsize=(6, 4), dpi=110)\n",
    "plt.rc('font', size=10)"
   ]
  },
  {
   "cell_type": "markdown",
   "metadata": {},
   "source": [
    "## 1.  Get some numbers\n",
    "\n",
    "We'll begin by generating a series of points from a given equation with noise applied.\n",
    "\n",
    "Generate a sequence of 10 numbers, using the following equation\n",
    "\n",
    "$$\n",
    "y_i=0.2+0.5x_i+e_i\n",
    "$$\n",
    "\n",
    "where $x_i$ is a *uniformly distributed* random number between 0 and 1 and $e_i$ is a *random* number from $\\mathcal{N}(\\mu = 0, \\sigma^2 = 0.01)$."
   ]
  },
  {
   "cell_type": "code",
   "execution_count": 110,
   "metadata": {},
   "outputs": [],
   "source": [
    "# write your code here\n",
    "def generator(a, b, n) :\n",
    "    X = np.random.rand(n)\n",
    "    Y = a + b*X + np.random.normal(0, 0.01, n)\n",
    "    \n",
    "    return [X, Y]"
   ]
  },
  {
   "cell_type": "markdown",
   "metadata": {},
   "source": [
    "Generate a scatter plot of $y_i$ versus $x_i$."
   ]
  },
  {
   "cell_type": "code",
   "execution_count": 111,
   "metadata": {},
   "outputs": [
    {
     "name": "stdout",
     "output_type": "stream",
     "text": [
      "[0.90765892 0.77552434 0.44994257 0.68173982 0.64182351 0.8832537\n",
      " 0.38311272 0.78400842 0.86109384 0.10269967]\n",
      "[0.64768501 0.58240512 0.43384244 0.56544671 0.51447591 0.64252928\n",
      " 0.38832982 0.58966815 0.62331185 0.24792521]\n"
     ]
    },
    {
     "data": {
      "text/plain": [
       "<matplotlib.collections.PathCollection at 0x7f566c686bb0>"
      ]
     },
     "execution_count": 111,
     "metadata": {},
     "output_type": "execute_result"
    },
    {
     "data": {
      "image/png": "[encoded data removed]",
      "text/plain": [
       "<Figure size 432x288 with 1 Axes>"
      ]
     },
     "metadata": {
      "needs_background": "light"
     },
     "output_type": "display_data"
    }
   ],
   "source": [
    "# write your code here\n",
    "plt.scatter(data[0], data[1])"
   ]
  },
  {
   "cell_type": "markdown",
   "metadata": {},
   "source": [
    "## 2. Create a general function\n",
    "\n",
    "Change the above code to a function that receives the parameters $a$, $b$ and $n$ for the equation $y_i = a + b x_i + e_i$ and returns $n$ samples as shown in the previous exercise.  \n",
    "\n",
    "Use the code to generate 100 samples from the equation above and visualise them."
   ]
  },
  {
   "cell_type": "code",
   "execution_count": 112,
   "metadata": {},
   "outputs": [
    {
     "name": "stdout",
     "output_type": "stream",
     "text": [
      "[0.05614403 0.33957662 0.04540356 0.60630652 0.34307034 0.18439744\n",
      " 0.08894244 0.69110769 0.33879748 0.63490503]\n",
      "[0.21776522 0.37661741 0.21705894 0.49742875 0.37201315 0.28962227\n",
      " 0.24684437 0.56770627 0.36893398 0.51416211]\n"
     ]
    }
   ],
   "source": [
    "# write your code here\n",
    "data = generator(0.2, 0.5, 10)\n",
    "X = np.array(data[0])\n",
    "Y = np.array(data[1])"
   ]
  },
  {
   "cell_type": "markdown",
   "metadata": {},
   "source": [
    "## 3. Least squares ##\n",
    "Using the sequences ${y_i}$ and ${x_i}$ from **2**, implement the matrix form of the least squares method to determine estimates of the parameters $a$ and $b$ (which we denote as $a'$ and $b'$) assuming that $y_i=a+bx_i$.\n",
    "\n",
    "**Hints**\n",
    "* The formula for the matrix form of least squares is given by: $A=(X^T.X)^{-1}.X^T.Y$ where $A=[a',b']$.\n",
    "* It is important that you keep track of the dimensions of your matrices, especially $X$. Remember that $X^T \\cdot X$ should give a 2x2 matrix.\n",
    "* Because of the equation being in the form of $y_i=a+bx_i$ the first column of X should be all 1s.\n",
    "* You don't need to use your code for matrix inverse and can instead use the function `np.linalg.inv`."
   ]
  },
  {
   "cell_type": "code",
   "execution_count": 127,
   "metadata": {},
   "outputs": [
    {
     "name": "stdout",
     "output_type": "stream",
     "text": [
      "[0.19434899 0.51812656]\n"
     ]
    }
   ],
   "source": [
    "# write your code here\n",
    "Xf = np.array([[1, x] for x in X])\n",
    "\n",
    "A = np.linalg.inv(Xf.T @ Xf) @ Xf.T @ Y\n",
    "print(A)"
   ]
  },
  {
   "cell_type": "markdown",
   "metadata": {},
   "source": [
    "### Why aren't the values of a and b the same as in the original equation?"
   ]
  },
  {
   "cell_type": "markdown",
   "metadata": {},
   "source": [
    "## 4. Line fitting and plotting\n",
    "\n",
    "Draw the line defined by the estimated values of $a'$ and $b'$ on top of the scatter plot generated in point **2**."
   ]
  },
  {
   "cell_type": "code",
   "execution_count": 76,
   "metadata": {
    "scrolled": true
   },
   "outputs": [
    {
     "data": {
      "image/png": "[encoded data removed]",
      "text/plain": [
       "<Figure size 432x288 with 1 Axes>"
      ]
     },
     "metadata": {
      "needs_background": "light"
     },
     "output_type": "display_data"
    }
   ],
   "source": [
    "# write your code here\n",
    "fig, ax = plt.subplots()\n",
    "ax.scatter(X, Y, c='blue')\n",
    "x = np.linspace(0,1,100)\n",
    "y = A[0] + A[1]*x\n",
    "plt.plot(x, y, '-r', label='y=2x+1')\n",
    "transform = ax.transAxes\n",
    "plt.show()"
   ]
  },
  {
   "cell_type": "markdown",
   "metadata": {},
   "source": [
    "## 5. Outliers\n",
    "\n",
    "Add a few outliers to your data. For example, add the points $\\{(0.5, 5), (0.6, 5), (0.7, 5)\\}$ to the sampled sequences from **2**.\n",
    "\n",
    "Re-estimate the best line that fits the data after the addition of the outliers.\n",
    "\n",
    "Plot the best fit line before and after the outlier data, in a way similar to the figure below (including the colouring and the legend).\n",
    "\n",
    "\n",
    "### Hint\n",
    "* Both `plot` and `scatter` have an optional parameter label which allows you to label each series for the legend.\n",
    "* Both `plot` and `scatter` have an optional parameter c which can be passed a colour, e.g. `c='r'` will set the colour to red.\n",
    "* `ax.legend` will create a legend automatically as long as your series have been labelled.\n",
    "\n",
    "![Line fit](lineFit.jpg)"
   ]
  },
  {
   "cell_type": "code",
   "execution_count": 129,
   "metadata": {},
   "outputs": [
    {
     "name": "stdout",
     "output_type": "stream",
     "text": [
      "[-0.28107527  4.35243698]\n"
     ]
    },
    {
     "data": {
      "image/png": "[encoded data removed]",
      "text/plain": [
       "<Figure size 432x288 with 1 Axes>"
      ]
     },
     "metadata": {
      "needs_background": "light"
     },
     "output_type": "display_data"
    }
   ],
   "source": [
    "Xo = np.append(X, 0.5)\n",
    "Xo = np.append(Xo, 0.6)\n",
    "Xo = np.append(Xo, 0.7)\n",
    "\n",
    "Xof = np.array([[1, x] for x in Xo])\n",
    "\n",
    "Yo = np.append(Y, 5)\n",
    "Yo = np.append(Yo, 5)\n",
    "Yo = np.append(Yo, 5)\n",
    "\n",
    "Ao = np.linalg.inv(Xof.T @ Xof) @ Xof.T @ Yo\n",
    "print(Ao)\n",
    "\n",
    "fig, ax = plt.subplots()\n",
    "ax.scatter(X, Y, c='blue')\n",
    "\n",
    "x = np.linspace(0,1,100)\n",
    "y = A[0] + A[1]*x\n",
    "plt.plot(x, y, '-r')\n",
    "\n",
    "xo = np.linspace(0,1,100)\n",
    "yo = Ao[0] + Ao[1]*xo\n",
    "plt.plot(xo, yo, '-b')\n",
    "transform = ax.transAxes\n",
    "plt.show()"
   ]
  },
  {
   "cell_type": "markdown",
   "metadata": {},
   "source": [
    "## 6. Calculating the error\n",
    "\n",
    "We can now calculate the error in the predicted line using sum squared error (which is what least squares regression is minimising).\n",
    "\n",
    "Calculate the error of the best fit line and the best fit line with outliers.\n",
    "\n",
    "**Hint**\n",
    "* The sum squared error formula is $\\sum_i (\\hat{y}_i - y_i)^2$ where $\\hat{y}_i = a + bx_i$."
   ]
  },
  {
   "cell_type": "code",
   "execution_count": 133,
   "metadata": {
    "scrolled": true
   },
   "outputs": [
    {
     "name": "stdout",
     "output_type": "stream",
     "text": [
      "14.284211508962096\n"
     ]
    }
   ],
   "source": [
    "# write your code here\n",
    "Yh = [Ao[0]+Ao[1]*x for x in X]\n",
    "error = sum([(Yh[i]-Y[i])**2 for i in range(len(Y))])\n",
    "print(error)"
   ]
  },
  {
   "cell_type": "markdown",
   "metadata": {},
   "source": [
    "## 7. Moving to a non-linear system\n",
    "\n",
    "So far we have been using the least squares method only to find the line of best fit for linear equations, however it can be extended quite easily to certain non-linear lines.\n",
    "\n",
    "Adapting this method lies in the creation of the $X$ matrix. The matrix we construct has two columns, the first a column of ones and the second a column of x values. Note how each column represents a function applied to x: $x^0$, $x^1$.\n",
    "\n",
    "If we were instead given the function $y = a + be^x$ to apply the least squares method we can just modify how we define $X$: instead of the second column including $x^1$ we can insert $e^x$.\n",
    "\n",
    "Given the set of points below, calculate $a$ and $b$ assuming they fit an exponential curve.\n",
    "### Hint\n",
    "* `np.exp(new_x)` will define the new column to add."
   ]
  },
  {
   "cell_type": "code",
   "execution_count": 135,
   "metadata": {},
   "outputs": [
    {
     "name": "stdout",
     "output_type": "stream",
     "text": [
      "[0.39780844 1.10035113]\n"
     ]
    }
   ],
   "source": [
    "new_X = np.array([-5, -4, -2, -1.5, -0.5, 0.5, 0.75, 1, 1.3, 1.9, 2.1, 2.4, 2.8, 3, 3.2])\n",
    "new_Y = np.array([0.407, 0.42, 0.549, 0.645, 1.07, 2.21, 2.73, 3.39, 4.44, 7.75, 9.38, 12.5, 18.5, 22.5, 27.4])\n",
    "\n",
    "new_Xf = np.array([[1, np.exp(x)] for x in new_X])\n",
    "new_A = np.linalg.inv(new_Xf.T @ new_Xf) @ new_Xf.T @ new_Y\n",
    "print(new_A)\n",
    "\n",
    "# write your code here"
   ]
  },
  {
   "attachments": {},
   "cell_type": "markdown",
   "metadata": {},
   "source": [
    "### Visualising the result\n",
    "We can now visualise the fitted line as a figure as before using `plot`. Due to the non-linear nature of the equation we can use `np.linspace(-5, 3.2, 100)` which returns 100 evenly spaced numbers in the interval between -5 and 3.2. \n",
    "\n",
    "Create a graph plotting both the original points and the fitted line as below:\n",
    "![Exp line fit](exp_line_fit.png)"
   ]
  },
  {
   "cell_type": "code",
   "execution_count": 139,
   "metadata": {},
   "outputs": [
    {
     "data": {
      "image/png": "[encoded data removed]",
      "text/plain": [
       "<Figure size 432x288 with 1 Axes>"
      ]
     },
     "metadata": {
      "needs_background": "light"
     },
     "output_type": "display_data"
    }
   ],
   "source": [
    "# write your code here\n",
    "fig, ax = plt.subplots()\n",
    "ax.scatter(new_X, new_Y, c='blue')\n",
    "\n",
    "new_x = np.linspace(-5,3.2,100)\n",
    "new_y = new_A[0] + new_A[1]*np.exp(new_x)\n",
    "plt.plot(new_x, new_y, '-r')\n",
    "\n",
    "plt.show()"
   ]
  },
  {
   "cell_type": "markdown",
   "metadata": {},
   "source": [
    "### What other types of functions can we extend this to?\n",
    "\n",
    "For example why can't we fit to the function $y=a \\cdot e^{bx}$?"
   ]
  }
 ],
 "metadata": {
  "kernelspec": {
   "display_name": "Python 3 (ipykernel)",
   "language": "python",
   "name": "python3"
  },
  "language_info": {
   "codemirror_mode": {
    "name": "ipython",
    "version": 3
   },
   "file_extension": ".py",
   "mimetype": "text/x-python",
   "name": "python",
   "nbconvert_exporter": "python",
   "pygments_lexer": "ipython3",
   "version": "3.8.10"
  }
 },
 "nbformat": 4,
 "nbformat_minor": 1
}
