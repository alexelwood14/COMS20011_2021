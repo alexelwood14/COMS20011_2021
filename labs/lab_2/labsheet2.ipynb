{
 "cells": [
  {
   "cell_type": "markdown",
   "metadata": {},
   "source": [
    "# Lab 2: Introduction to Python and Jupyter Notebooks, Part II\n",
    "\n",
    "In this lab session we will continue our introduction to Python/NumPy/Matplotlib. We will see how to perform some basic operation on vectors, matrices, and a special type of matrix, the *image*. \n",
    "\n",
    "As usual, before we start, we need to import the needed libraries and set some useful plotting parameters. We can do this by running the code cell below."
   ]
  },
  {
   "cell_type": "code",
   "execution_count": 1,
   "metadata": {},
   "outputs": [],
   "source": [
    "from __future__ import print_function # to avoid issues between Python 2 and 3 printing\n",
    "\n",
    "import numpy as np\n",
    "from scipy import stats\n",
    "from skimage import data, io, color, transform, exposure\n",
    "import matplotlib.pyplot as plt\n",
    "\n",
    "# show matplotlib figures inline\n",
    "%matplotlib inline"
   ]
  },
  {
   "cell_type": "code",
   "execution_count": 2,
   "metadata": {},
   "outputs": [],
   "source": [
    "# By default we set figures to be 6\"x4\" on a 110 dots per inch (DPI) screen \n",
    "# (adjust DPI if you have a high res screen!)\n",
    "plt.rc('figure', figsize=(6, 4), dpi=110)\n",
    "plt.rc('font', size=10)"
   ]
  },
  {
   "cell_type": "markdown",
   "metadata": {},
   "source": [
    "You'll notice the line [`%matplotlib inline`](https://ipython.readthedocs.io/en/stable/interactive/magics.html#magic-matplotlib) looks very different to all other python code so far. This is a special command just for jupyter notebooks which will plot the figures inline and doesn't require a call to [`plt.show()`](https://matplotlib.org/api/_as_gen/matplotlib.pyplot.show.html)."
   ]
  },
  {
   "cell_type": "markdown",
   "metadata": {},
   "source": [
    "## 1. Functions \n",
    "\n",
    "Let's start creating a function called `test_normal(n, mean_dist, var_dist)` that generates a *random sequence* of `n` numbers from the normal distribution $\\mathcal{N}(\\mu, \\sigma^2)$ and returns the *mean* and *var* of the *sequence*. \n",
    "\n",
    "### Default Value Parameters\n",
    "Python allows you to have default values for parameters if you want them to be optional. For example if we define the function as `test_normal(n=100, mean_dist=5.0, var_dist=2.0)` then we can actually call the function using `test_normal()` and pass no parameters. We could also call the function using `test_normal(var_dist=10, mean_dist=0.5)`. You can find more info [here](https://www.programiz.com/python-programming/function-argument).\n",
    "\n",
    "Write the function so that when no parameters are passed it generates a sequence of 10000 elements from the distribution $\\mathcal{N}(0, 1)$. \n",
    "\n",
    "Call the function multiple times with no arguments and observe the output.\n",
    "\n",
    "Hint: you can use the function [`numpy.random.randn`](https://docs.scipy.org/doc/numpy-1.15.1/reference/generated/numpy.random.randn.html) to generate a random sequence from the normal distribution."
   ]
  },
  {
   "cell_type": "code",
   "execution_count": 3,
   "metadata": {},
   "outputs": [],
   "source": [
    "def test_normal(n, mean_dist, var_dist):\n",
    "    sn = np.random.randn(n)\n",
    "    sn = sn*var_dist + mean_dist\n",
    "    return sn"
   ]
  },
  {
   "cell_type": "markdown",
   "metadata": {},
   "source": [
    "### Play now a little with the parameters of the function. \n",
    "\n",
    "- What do you observe when you create a sequence with a very small number of elements? \n",
    "- What happens when the sequence contains a very large number of elements instead?"
   ]
  },
  {
   "cell_type": "markdown",
   "metadata": {},
   "source": [
    "## 2. 2D Normal distribution\n",
    "\n",
    "Given the following 2D normal distribution $\\mathcal{N}(\\mathbf{\\mu},\\mathbf{C})$ with:\n",
    "$$\n",
    "\\mathbf{\\mu}=\\left [ \\begin{array}{c}2\\\\2\\end{array}\\right ] \\;\\;\\;\\;\\;\n",
    "\\mathbf{C}=\\left [ \\begin{array}{cc}4& 2\\\\2& 6\\end{array}\\right ] \n",
    "$$\n",
    "\n",
    "Estimate the probability that the following vectors:\n",
    "\n",
    "- $x_1 = (1, 2)$\n",
    "- $x_2 = (2,8)$\n",
    "- $x_3 = (5,4)$ \n",
    "\n",
    "are sampled from the distribution. Hint: use SciPy's function [`stats.multivariate_normal.pdf`](https://docs.scipy.org/doc/scipy/reference/generated/scipy.stats.multivariate_normal.html)."
   ]
  },
  {
   "cell_type": "code",
   "execution_count": 4,
   "metadata": {},
   "outputs": [
    {
     "name": "stdout",
     "output_type": "stream",
     "text": [
      "[0.03063098 0.0009724  0.01126851]\n"
     ]
    }
   ],
   "source": [
    "mu = np.array([2, 2])\n",
    "C = np.array([[4, 2], [2, 6]])\n",
    "x = np.array([[1, 2], [2, 8], [5, 4]])\n",
    "y = stats.multivariate_normal.pdf(x, mean=mu, cov=C)\n",
    "print(y)"
   ]
  },
  {
   "cell_type": "markdown",
   "metadata": {},
   "source": [
    "### Observe the obtained values. Which vector has the highest likelihood? Why?"
   ]
  },
  {
   "cell_type": "markdown",
   "metadata": {},
   "source": [
    "## 3. Random vectors\n",
    "\n",
    "Generate a sequence of 100 random vectors from the 2D distribution above using the function [`stats.multivariate_normal.rvs`](https://docs.scipy.org/doc/scipy/reference/generated/scipy.stats.multivariate_normal.html)."
   ]
  },
  {
   "cell_type": "code",
   "execution_count": 5,
   "metadata": {},
   "outputs": [],
   "source": [
    "samples = stats.multivariate_normal.rvs(mu, C, 100).transpose()"
   ]
  },
  {
   "cell_type": "markdown",
   "metadata": {},
   "source": [
    "Create now a scatter plot of the sequence using the function [`plt.scatter`](https://matplotlib.org/api/_as_gen/matplotlib.pyplot.scatter.html). Compute the mean and covariance for the sequence using the functions [`np.mean`](https://docs.scipy.org/doc/numpy-1.15.0/reference/generated/numpy.mean.html) (consider the `axis` parameter) and [`np.cov`](https://docs.scipy.org/doc/numpy-1.15.0/reference/generated/numpy.cov.html) (consider the `rowvar` parameter)."
   ]
  },
  {
   "cell_type": "code",
   "execution_count": 6,
   "metadata": {},
   "outputs": [
    {
     "name": "stdout",
     "output_type": "stream",
     "text": [
      "[2.3705208  2.04351621]\n",
      "[[4.08133203 2.3590261 ]\n",
      " [2.3590261  6.20934226]]\n"
     ]
    },
    {
     "data": {
      "text/plain": "<Figure size 660x440 with 1 Axes>",
      "image/png": "[encoded data removed]"
     },
     "metadata": {
      "needs_background": "light"
     },
     "output_type": "display_data"
    }
   ],
   "source": [
    "plt.scatter(samples[0], samples[1])\n",
    "print(np.mean(samples, axis=1))\n",
    "print(np.cov(samples))"
   ]
  },
  {
   "cell_type": "markdown",
   "metadata": {},
   "source": [
    "Let's increase now the length of the sequence to 4000. Plot the new data and compute the new mean and covariance."
   ]
  },
  {
   "cell_type": "code",
   "execution_count": 7,
   "metadata": {},
   "outputs": [
    {
     "name": "stdout",
     "output_type": "stream",
     "text": [
      "[1.94898206 2.0738901 ]\n",
      "[[4.31964313 2.12283037]\n",
      " [2.12283037 6.38395595]]\n"
     ]
    },
    {
     "data": {
      "text/plain": "<Figure size 660x440 with 1 Axes>",
      "image/png": "[encoded data removed]"
     },
     "metadata": {
      "needs_background": "light"
     },
     "output_type": "display_data"
    }
   ],
   "source": [
    "samples = stats.multivariate_normal.rvs(mu, C, 400).transpose()\n",
    "plt.scatter(samples[0], samples[1])\n",
    "print(np.mean(samples, axis=1))\n",
    "print(np.cov(samples))"
   ]
  },
  {
   "cell_type": "markdown",
   "metadata": {},
   "source": [
    "### Compare the two scatter plots above. What do you observe?"
   ]
  },
  {
   "cell_type": "markdown",
   "metadata": {},
   "source": [
    "## 4. Matrix Inverse\n",
    "\n",
    "Create a function that takes a 2x2 matrix and returns its inverse.\n",
    "\n",
    "Recall that the inverse of a 2x2 matrix\n",
    "$$\n",
    "\\mathbf{A}=\\left [ \\begin{array}{cc}\n",
    "    a & b \\\\\n",
    "    c & d\\end{array}\\right ]\n",
    "$$\n",
    "\n",
    "is\n",
    "\n",
    "$$\n",
    "\\mathbf{A}^{-1} = \n",
    "    \\frac{1}{\\det(\\mathbf{A})} \\left [ \\begin{array}{cc}\n",
    "        d & -b \\\\\n",
    "        -c & a\\end{array}\\right ]\n",
    "$$\n",
    "\n",
    "where\n",
    "\n",
    "$$\\det{(\\mathbf{A})} = ad - bc$$"
   ]
  },
  {
   "cell_type": "markdown",
   "metadata": {},
   "source": [
    "### Before coding, answer the following question:\n",
    "\n",
    "Given the definition above, are there any conditions you need to check before calculating the inverse of a matrix in your function?"
   ]
  },
  {
   "cell_type": "code",
   "execution_count": 8,
   "metadata": {},
   "outputs": [],
   "source": [
    "def det(matrix):\n",
    "    return matrix[0][0]*matrix[1][1]-matrix[1][0]*matrix[0][1]\n",
    "    \n",
    "def inverse(A):\n",
    "    d = det(A)\n",
    "    if det == 0 or len(A)!=2 or len(A[0])!=2 or len(A[1])!=2:\n",
    "        return None\n",
    "    else:\n",
    "        inv = (1/d) * np.array([[A[1][1], -A[1][0]], [-A[0][1], A[0][0]]])\n",
    "        return inv\n",
    "\n"
   ]
  },
  {
   "cell_type": "markdown",
   "metadata": {},
   "source": [
    "Call now the function passing different random 2x2 matrices.\n",
    "\n",
    "Try also your function with a singular 2x2 matrix and a random 2x3 matrix and make sure your code does not crash!"
   ]
  },
  {
   "cell_type": "code",
   "execution_count": 9,
   "metadata": {},
   "outputs": [
    {
     "name": "stdout",
     "output_type": "stream",
     "text": [
      "[[-2.   1.5]\n",
      " [ 1.  -0.5]]\n",
      "None\n"
     ]
    }
   ],
   "source": [
    "A = np.array([[1, 2], [3, 4]])\n",
    "print(inverse(A))\n",
    "B = np.array([[1, 2], [3, 4], [1, 2]])\n",
    "print(inverse(B))"
   ]
  },
  {
   "cell_type": "markdown",
   "metadata": {},
   "source": [
    "Obviously, there was already a function in NumPy to calculate the inverse of a matrix, which is the function [`np.linalg.inv`](https://docs.scipy.org/doc/numpy/reference/generated/numpy.linalg.inv.html#numpy.linalg.inv). \n",
    "\n",
    "Compare now the results obtained with your function with those obtained with the NumPy one. Note that if you coded the function right, you should get the exact same results!"
   ]
  },
  {
   "cell_type": "code",
   "execution_count": 10,
   "metadata": {},
   "outputs": [
    {
     "name": "stdout",
     "output_type": "stream",
     "text": [
      "[[-2.   1. ]\n",
      " [ 1.5 -0.5]]\n"
     ]
    },
    {
     "ename": "LinAlgError",
     "evalue": "Last 2 dimensions of the array must be square",
     "output_type": "error",
     "traceback": [
      "\u001B[0;31m---------------------------------------------------------------------------\u001B[0m",
      "\u001B[0;31mLinAlgError\u001B[0m                               Traceback (most recent call last)",
      "Input \u001B[0;32mIn [10]\u001B[0m, in \u001B[0;36m<module>\u001B[0;34m\u001B[0m\n\u001B[1;32m      1\u001B[0m \u001B[38;5;28mprint\u001B[39m(np\u001B[38;5;241m.\u001B[39mlinalg\u001B[38;5;241m.\u001B[39minv(A))\n\u001B[0;32m----> 2\u001B[0m \u001B[38;5;28mprint\u001B[39m(\u001B[43mnp\u001B[49m\u001B[38;5;241;43m.\u001B[39;49m\u001B[43mlinalg\u001B[49m\u001B[38;5;241;43m.\u001B[39;49m\u001B[43minv\u001B[49m\u001B[43m(\u001B[49m\u001B[43mB\u001B[49m\u001B[43m)\u001B[49m)\n",
      "File \u001B[0;32m<__array_function__ internals>:5\u001B[0m, in \u001B[0;36minv\u001B[0;34m(*args, **kwargs)\u001B[0m\n",
      "File \u001B[0;32m~/.local/lib/python3.8/site-packages/numpy/linalg/linalg.py:540\u001B[0m, in \u001B[0;36minv\u001B[0;34m(a)\u001B[0m\n\u001B[1;32m    538\u001B[0m a, wrap \u001B[38;5;241m=\u001B[39m _makearray(a)\n\u001B[1;32m    539\u001B[0m _assert_stacked_2d(a)\n\u001B[0;32m--> 540\u001B[0m \u001B[43m_assert_stacked_square\u001B[49m\u001B[43m(\u001B[49m\u001B[43ma\u001B[49m\u001B[43m)\u001B[49m\n\u001B[1;32m    541\u001B[0m t, result_t \u001B[38;5;241m=\u001B[39m _commonType(a)\n\u001B[1;32m    543\u001B[0m signature \u001B[38;5;241m=\u001B[39m \u001B[38;5;124m'\u001B[39m\u001B[38;5;124mD->D\u001B[39m\u001B[38;5;124m'\u001B[39m \u001B[38;5;28;01mif\u001B[39;00m isComplexType(t) \u001B[38;5;28;01melse\u001B[39;00m \u001B[38;5;124m'\u001B[39m\u001B[38;5;124md->d\u001B[39m\u001B[38;5;124m'\u001B[39m\n",
      "File \u001B[0;32m~/.local/lib/python3.8/site-packages/numpy/linalg/linalg.py:203\u001B[0m, in \u001B[0;36m_assert_stacked_square\u001B[0;34m(*arrays)\u001B[0m\n\u001B[1;32m    201\u001B[0m m, n \u001B[38;5;241m=\u001B[39m a\u001B[38;5;241m.\u001B[39mshape[\u001B[38;5;241m-\u001B[39m\u001B[38;5;241m2\u001B[39m:]\n\u001B[1;32m    202\u001B[0m \u001B[38;5;28;01mif\u001B[39;00m m \u001B[38;5;241m!=\u001B[39m n:\n\u001B[0;32m--> 203\u001B[0m     \u001B[38;5;28;01mraise\u001B[39;00m LinAlgError(\u001B[38;5;124m'\u001B[39m\u001B[38;5;124mLast 2 dimensions of the array must be square\u001B[39m\u001B[38;5;124m'\u001B[39m)\n",
      "\u001B[0;31mLinAlgError\u001B[0m: Last 2 dimensions of the array must be square"
     ]
    }
   ],
   "source": [
    "print(np.linalg.inv(A))\n",
    "print(np.linalg.inv(B))"
   ]
  },
  {
   "cell_type": "markdown",
   "metadata": {},
   "source": [
    "## 5. Loading images with Python\n",
    "\n",
    "We will use the [scikit-image](https://scikit-image.org/) library to load, show and perform some operation on images. \n",
    "\n",
    "We have already imported all the needed functions in the first code cell of this notebook.\n",
    "\n",
    "Let's now load the image `flower.png` using the function [`io.imread`](http://scikit-image.org/docs/dev/api/skimage.io.html#skimage.io.imread) and let's display the image using the function [`io.imshow`](http://scikit-image.org/docs/dev/api/skimage.io.html#skimage.io.imshow)."
   ]
  },
  {
   "cell_type": "code",
   "execution_count": null,
   "metadata": {},
   "outputs": [],
   "source": [
    "im_flower = io.imread(\"flower.png\")\n",
    "io.imshow(im_flower)"
   ]
  },
  {
   "cell_type": "markdown",
   "metadata": {},
   "source": [
    "Remember that images can be interpreted as *matrices*. In fact, the scikit-image library stores images as NumPy arrays. \n",
    "\n",
    "Such arrays are either 2D, for grey scale images, or 3D, for colour images.\n",
    "\n",
    "In the grey scale case, the 2D array simply stores the intensity value of each pixel. Usually values are in the range `[0, 255]` (8 bit images), but other ranges are also possible, such as `[0, 1]`.\n",
    "\n",
    "In the colour case, the third dimension represents one of the three `[R, G, B]` colour channels. Each channel can be seen as a grey scale image which stores the intensity value of the corresponding colour. By combining the three colours we can obtain all the [other colours](https://en.wikipedia.org/wiki/RGB_color_model).\n",
    "\n",
    "#### Note:\n",
    "* A number of different colour models exist, such as CMY or HSL. Depending on the used colour model, pixels in matrices are organised in different ways. Here we assume we are dealing only with the RGB colour model, which is the predominant model for monitors, and thus assume our matrices are in the form seen above. You can learn more about this topic [here](https://en.wikipedia.org/wiki/Color_space) and [here](https://en.wikipedia.org/wiki/Color_model#CMYK_color_model)\n",
    "\n",
    "We can check the size/shape of an image/matrix by using the property `shape` of NumPy's arrays. "
   ]
  },
  {
   "cell_type": "code",
   "execution_count": null,
   "metadata": {},
   "outputs": [],
   "source": [
    "print('Image shape:', im_flower.shape)"
   ]
  },
  {
   "cell_type": "markdown",
   "metadata": {},
   "source": [
    "In our case, the flower image has resolution 1440x900. Note how rows represent the height of the image, while columns represent its width. Since our image is in colours, we have a 3D array."
   ]
  },
  {
   "cell_type": "markdown",
   "metadata": {},
   "source": [
    "## 6. Image manipulation\n",
    "\n",
    "Let's convert our colour image to a grey scale one using the function [`color.rgb2gray`](http://scikit-image.org/docs/dev/api/skimage.color.html#skimage.color.rgb2gray). Let's then change the size of the image to half its current size using the function [`transform.resize`](http://scikit-image.org/docs/dev/api/skimage.transform.html#skimage.transform.resize).\n",
    "\n",
    "Print both images' size to check your operation was perfomed correctly."
   ]
  },
  {
   "cell_type": "code",
   "execution_count": null,
   "metadata": {},
   "outputs": [],
   "source": [
    "io.imshow(color.rgb2gray(im_flower))\n",
    "io.imshow(transform.resize(im_flower, [im_flower.shape[0]/2, im_flower.shape[1]/2]))"
   ]
  },
  {
   "cell_type": "markdown",
   "metadata": {},
   "source": [
    "## 7. Image interpretation\n",
    "\n",
    "Calculate the histogram of your grey scale image's pixel values using the function [`exposure.histogram`](http://scikit-image.org/docs/dev/api/skimage.exposure.html#skimage.exposure.histogram).\n",
    "\n",
    "You can use the following function `imhist` to plot the histogram."
   ]
  },
  {
   "cell_type": "code",
   "execution_count": null,
   "metadata": {},
   "outputs": [],
   "source": [
    "hist = exposure.histogram(im_flower)\n",
    "\n",
    "def imhist(img_hist):\n",
    "    fig, ax = plt.subplots()\n",
    "    ax.bar( range(256), img_hist[0], width=1 )\n",
    "    ax.set_xlim(0, 256)\n",
    "    \n",
    "imhist(hist)"
   ]
  },
  {
   "cell_type": "markdown",
   "metadata": {},
   "source": [
    "### What can we tell about the image by looking at the histogram? \n",
    "\n",
    "Recall we plotted the histogram of the grey scale image, and recall that our pixels have values ranging from 0 (black) to 255 (white)."
   ]
  },
  {
   "cell_type": "markdown",
   "metadata": {},
   "source": [
    "## 8. Image Interpretation  II\n",
    "\n",
    "Use the function [`exposure.equalize_hist`](http://scikit-image.org/docs/dev/api/skimage.exposure.html#skimage.exposure.equalize_hist) to [equalize](https://en.wikipedia.org/wiki/Histogram_equalization) the image. Show the image and its corresponding histogram."
   ]
  },
  {
   "cell_type": "code",
   "execution_count": null,
   "metadata": {},
   "outputs": [],
   "source": [
    "eq_im_flower = exposure.equalize_hist(im_flower)\n",
    "io.imshow(eq_im_flower)\n",
    "hist = exposure.histogram(eq_im_flower)\n",
    "imhist(hist)"
   ]
  },
  {
   "cell_type": "markdown",
   "metadata": {},
   "source": [
    "### Observe the resulting image and its histogram. What can we tell about the equalised image? "
   ]
  }
 ],
 "metadata": {
  "kernelspec": {
   "display_name": "Python 3 (ipykernel)",
   "language": "python",
   "name": "python3"
  },
  "language_info": {
   "codemirror_mode": {
    "name": "ipython",
    "version": 3
   },
   "file_extension": ".py",
   "mimetype": "text/x-python",
   "name": "python",
   "nbconvert_exporter": "python",
   "pygments_lexer": "ipython3",
   "version": "3.8.10"
  }
 },
 "nbformat": 4,
 "nbformat_minor": 4
}