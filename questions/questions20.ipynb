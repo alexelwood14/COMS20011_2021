{
 "cells": [
  {
   "cell_type": "markdown",
   "metadata": {
    "collapsed": true,
    "pycharm": {
     "name": "#%% md\n"
    }
   },
   "source": [
    "## Question 1\n",
    "\n",
    "Z -> Image 1\n",
    "H -> Image 3\n",
    "K -> Image 2\n",
    "\n",
    "## Question 2\n",
    "\n",
    "FS2 -> Sugar\n",
    "FS1 -> Bricks\n",
    "\n",
    "FS1 corresponds to Bricks because it has a white horizontal line and a white vertical line which represents the varying intensity in the horizontal and vertical directions. In the Sugar image there are more directions which have varying intensity which means it must be represented by FS2 because it has more bright lines at varying directions.\n",
    "\n",
    "## Question 3\n",
    "\n",
    "A high pass filter has been used to remove variation in contrast while keeping the high frequency variations such as the lines in the brick. This is achieved by either using Butterworth's high pass filter of a Gaussian filter. In this case it is more likely that a Gaussian filter has been used as there is still some levels of contrast in the image.\n",
    "\n",
    "## Question 4\n",
    "\n",
    "Z -> C because it has reduced sharpness in vertical and horizontal lines but kept sharpness in diagonal lines which are in the same direction as the filter.\n",
    "\n",
    "X -> B because sharpness in all directions has been lost and some contrast has also been lost.\n",
    "\n",
    "Y -> A as vertical and horizontal lines have been removed from the image.\n",
    "\n",
    "**Z -> A, Y -> B, X -> C**"
   ]
  }
 ],
 "metadata": {
  "kernelspec": {
   "display_name": "Python 3",
   "language": "python",
   "name": "python3"
  },
  "language_info": {
   "codemirror_mode": {
    "name": "ipython",
    "version": 2
   },
   "file_extension": ".py",
   "mimetype": "text/x-python",
   "name": "python",
   "nbconvert_exporter": "python",
   "pygments_lexer": "ipython2",
   "version": "2.7.6"
  }
 },
 "nbformat": 4,
 "nbformat_minor": 0
}