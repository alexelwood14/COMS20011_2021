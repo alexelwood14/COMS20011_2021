{
 "cells": [
  {
   "cell_type": "code",
   "execution_count": 27,
   "metadata": {
    "collapsed": true
   },
   "outputs": [],
   "source": [
    "import numpy as np\n",
    "import scipy.signal"
   ]
  },
  {
   "cell_type": "markdown",
   "source": [
    "## Question 1\n",
    "\n",
    "The code below shows the convolution between the array b# and kernel a#."
   ],
   "metadata": {
    "collapsed": false,
    "pycharm": {
     "name": "#%% md\n"
    }
   }
  },
  {
   "cell_type": "code",
   "execution_count": 28,
   "outputs": [
    {
     "name": "stdout",
     "output_type": "stream",
     "text": [
      "[ 9 11 11]\n",
      "[-1 -1  0  7 13]\n",
      "[[-35   0  35]\n",
      " [-40   0  40]\n",
      " [-35   0  35]]\n"
     ]
    }
   ],
   "source": [
    "a1 = np.array([1,2,1])\n",
    "b1 = np.array([2, 2, 3, 3, 2])\n",
    "\n",
    "a2 = np.array([1,1,3,1,1])\n",
    "b2 = np.array([3, 3, -2, -1, 0, 1, 2, 3, 3])\n",
    "\n",
    "a3 = np.array([[-1,0,1],\n",
    "               [-2,0,2],\n",
    "               [-1,0,1]])\n",
    "b3 = np.array([[0,  5,  5,  5, 0],\n",
    "               [0,  5, 10,  5, 0],\n",
    "               [0, 10, 10, 10, 0],\n",
    "               [0,  5, 10,  5, 0],\n",
    "               [0,  5,  5,  5, 0]])\n",
    "\n",
    "print(np.convolve(b1, a1, mode='valid'))\n",
    "print(np.convolve(b2, a2, mode='valid'))\n",
    "print(scipy.signal.convolve2d(a3, b3, mode='valid'))"
   ],
   "metadata": {
    "collapsed": false,
    "pycharm": {
     "name": "#%%\n"
    }
   }
  },
  {
   "cell_type": "markdown",
   "source": [
    "## Question 2\n",
    "\n",
    "To implement low pass filtering in the Fourier domain a new function H(u, v) needs to be defined. F(u, v)H(u, v)=G(u, v). H(u, v) will contain a circle of values of 1 near the origin and then 0 outside that circle. The radius of this circle is the cut-off radius.\n",
    "\n",
    "**Butterworth's low pass filter, or Gaussian filtering**\n",
    "\n",
    "## Question 3\n",
    "\n",
    "Fourier transforms contains information on different properties of an image:\n",
    "- To extract the low frequency regions, take the region within a set radius of the origin.\n",
    "- To extract the high frequency regions with intensity variations 45 degrees to the horizontal, take an arc around 45 degrees to the horizontal that is outside a set radius of the origin.\n",
    "- To extract the mid-frequency regions, take a ring of the space that is between two set radii.\n",
    "\n",
    "## Question 4\n",
    "\n",
    "### Part A\n",
    "\n",
    "Colour, contrast, size, roundness. The colour alone would not be able to match these particular fruits as they have similar colour, but it will help with classification. Contrast would work similar to colour, this would be taken from the center of the fourier transform. Roundness can be measured by comparing how rotationally symmetric the fourier transform and would work well at comparing the Red Pears to the other fruits. Size would work well at comparing Satsumas and Oranges.\n",
    "\n",
    "### Part B\n",
    "\n",
    "Using a test sample of the mixed fruits, a test set of data could be acquired for each of the 20 features. The covariance matrix can be produced from this data. The corresponding eigenvalues are proportional to how much each feature contributes to total variance. Remove all features which have an insignificant effect on total variance.\n",
    "\n",
    "## Question 5\n",
    "\n",
    "B is correct\n",
    "\n",
    "## Question 6\n",
    "\n",
    "C, 1/24\n",
    "\n",
    "## Question 7\n",
    "\n",
    "D, 92.3%"
   ],
   "metadata": {
    "collapsed": false,
    "pycharm": {
     "name": "#%% md\n"
    }
   }
  }
 ],
 "metadata": {
  "kernelspec": {
   "display_name": "Python 3",
   "language": "python",
   "name": "python3"
  },
  "language_info": {
   "codemirror_mode": {
    "name": "ipython",
    "version": 2
   },
   "file_extension": ".py",
   "mimetype": "text/x-python",
   "name": "python",
   "nbconvert_exporter": "python",
   "pygments_lexer": "ipython2",
   "version": "2.7.6"
  }
 },
 "nbformat": 4,
 "nbformat_minor": 0
}